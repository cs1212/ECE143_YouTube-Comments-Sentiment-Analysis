{
 "cells": [
  {
   "cell_type": "markdown",
   "metadata": {},
   "source": [
    "# For plotting graphs for news section of slides"
   ]
  },
  {
   "cell_type": "code",
   "execution_count": 1,
   "metadata": {},
   "outputs": [
    {
     "ename": "ModuleNotFoundError",
     "evalue": "No module named 'news_graph_functions'",
     "output_type": "error",
     "traceback": [
      "\u001b[1;31m---------------------------------------------------------------------------\u001b[0m",
      "\u001b[1;31mModuleNotFoundError\u001b[0m                       Traceback (most recent call last)",
      "\u001b[1;32m<ipython-input-1-cd523bc5ac0e>\u001b[0m in \u001b[0;36m<module>\u001b[1;34m()\u001b[0m\n\u001b[1;32m----> 1\u001b[1;33m \u001b[1;32mimport\u001b[0m \u001b[0mnews_graph_functions\u001b[0m \u001b[1;32mas\u001b[0m \u001b[0mngf\u001b[0m\u001b[1;33m\u001b[0m\u001b[0m\n\u001b[0m",
      "\u001b[1;31mModuleNotFoundError\u001b[0m: No module named 'news_graph_functions'"
     ]
    }
   ],
   "source": [
    "import news_graph_functions as ngf"
   ]
  },
  {
   "cell_type": "code",
   "execution_count": null,
   "metadata": {},
   "outputs": [],
   "source": [
    "ngf.trump_comments_plot()"
   ]
  },
  {
   "cell_type": "code",
   "execution_count": null,
   "metadata": {},
   "outputs": [],
   "source": [
    "abc_pos_norm, abc_neg_norm = ngf.norm_polarities('.\\\\news_graphs\\\\trump_comment_values\\\\ABC2.txt')\n",
    "bbc_pos_norm, bbc_neg_norm = ngf.norm_polarities('.\\\\news_graphs\\\\trump_comment_values\\\\BBC2.txt')\n",
    "cbs_pos_norm, cbs_neg_norm = ngf.norm_polarities('.\\\\news_graphs\\\\trump_comment_values\\\\CBS2.txt')\n",
    "cnn_pos_norm, cnn_neg_norm = ngf.norm_polarities('.\\\\news_graphs\\\\trump_comment_values\\\\CNN2.txt')\n",
    "fox_pos_norm, fox_neg_norm = ngf.norm_polarities('.\\\\news_graphs\\\\trump_comment_values\\\\FOX2.txt')\n",
    "msnbc_pos_norm, msnbc_neg_norm = ngf.norm_polarities('.\\\\news_graphs\\\\trump_comment_values\\\\MSNBC2.txt')"
   ]
  },
  {
   "cell_type": "code",
   "execution_count": null,
   "metadata": {},
   "outputs": [],
   "source": [
    "names = ['CBS','MSNBC','FOX','BBC','ABC','CNN']\n",
    "pos_vals = [cbs_pos_norm,msnbc_pos_norm,fox_pos_norm,bbc_pos_norm,abc_pos_norm,cnn_pos_norm]\n",
    "neg_vals = [cbs_neg_norm,msnbc_neg_norm,fox_neg_norm,bbc_neg_norm,abc_neg_norm,cnn_neg_norm]\n",
    "ngf.bar(names,pos_vals,neg_vals)"
   ]
  },
  {
   "cell_type": "markdown",
   "metadata": {},
   "source": [
    "### CNN Wordclouds"
   ]
  },
  {
   "cell_type": "code",
   "execution_count": null,
   "metadata": {},
   "outputs": [],
   "source": [
    "cnn_wall = get_sentiment_trump('.\\\\data\\\\news\\\\CNN\\\\Wall')"
   ]
  },
  {
   "cell_type": "code",
   "execution_count": null,
   "metadata": {},
   "outputs": [],
   "source": [
    "posneg_wordcloud(cnn_wall[0])"
   ]
  },
  {
   "cell_type": "code",
   "execution_count": null,
   "metadata": {},
   "outputs": [],
   "source": [
    "posneg_wordcloud(cnn_wall[1])"
   ]
  },
  {
   "cell_type": "markdown",
   "metadata": {},
   "source": [
    "### FOX Wordclouds"
   ]
  },
  {
   "cell_type": "code",
   "execution_count": null,
   "metadata": {},
   "outputs": [],
   "source": [
    "fox_wall = get_sentiment_trump('.\\\\data\\\\news\\\\Fox\\\\Wall')"
   ]
  },
  {
   "cell_type": "code",
   "execution_count": null,
   "metadata": {},
   "outputs": [],
   "source": [
    "posneg_wordcloud(fox_wall[0])"
   ]
  },
  {
   "cell_type": "code",
   "execution_count": null,
   "metadata": {},
   "outputs": [],
   "source": [
    "posneg_wordcloud(fox_wall[1])"
   ]
  },
  {
   "cell_type": "markdown",
   "metadata": {},
   "source": [
    "### BBC Wordclouds"
   ]
  },
  {
   "cell_type": "code",
   "execution_count": null,
   "metadata": {},
   "outputs": [],
   "source": [
    "bbc_wall = get_sentiment_trump('.\\\\data\\\\news\\\\BBC\\\\Wall')"
   ]
  },
  {
   "cell_type": "code",
   "execution_count": null,
   "metadata": {},
   "outputs": [],
   "source": [
    "posneg_wordcloud(bbc_wall[0])"
   ]
  },
  {
   "cell_type": "code",
   "execution_count": null,
   "metadata": {},
   "outputs": [],
   "source": [
    "posneg_wordcloud(bbc_wall[1])"
   ]
  }
 ],
 "metadata": {
  "kernelspec": {
   "display_name": "Python 3",
   "language": "python",
   "name": "python3"
  },
  "language_info": {
   "codemirror_mode": {
    "name": "ipython",
    "version": 3
   },
   "file_extension": ".py",
   "mimetype": "text/x-python",
   "name": "python",
   "nbconvert_exporter": "python",
   "pygments_lexer": "ipython3",
   "version": "3.7.0"
  }
 },
 "nbformat": 4,
 "nbformat_minor": 2
}
